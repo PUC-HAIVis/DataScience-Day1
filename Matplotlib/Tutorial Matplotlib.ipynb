{
 "cells": [
  {
   "cell_type": "markdown",
   "metadata": {},
   "source": [
    "#  Tutorial Matplotlib + Jupyter Notebook"
   ]
  },
  {
   "cell_type": "markdown",
   "metadata": {},
   "source": [
    "## Markdown\n",
    "\n",
    "- Se puede escribir código en ```Markdown```\n",
    "- Se le puede inyectar código en ```HTML``` y ```LaTex```"
   ]
  },
  {
   "cell_type": "markdown",
   "metadata": {},
   "source": [
    "<h2> Título en ```HTML:``` </h2>\n",
    "\n",
    "Ejemplo de una función en ```LaTex```:\n",
    "\n",
    " \\begin{eqnarray}\n",
    "   f(\\alpha,\\beta) = \\frac{{\\alpha}^{2}}{{\\alpha}^{2} + \\beta^{3}} + {\\alpha}^{3}\n",
    " \\end{eqnarray}\n"
   ]
  },
  {
   "cell_type": "markdown",
   "metadata": {},
   "source": [
    "## Código en ```Python```:"
   ]
  },
  {
   "cell_type": "code",
   "execution_count": null,
   "metadata": {
    "collapsed": true
   },
   "outputs": [],
   "source": [
    "# Importamos las librerías\n",
    "\n",
    "import scipy\n",
    "from scipy import stats\n",
    "import pandas as pd\n",
    "import numpy as np\n",
    "from matplotlib import pyplot as plt\n",
    "from matplotlib import pylab "
   ]
  },
  {
   "cell_type": "code",
   "execution_count": null,
   "metadata": {
    "collapsed": false
   },
   "outputs": [],
   "source": [
    "# Gráficos inline y Tamaño adecuado\n",
    "%matplotlib inline\n",
    "pylab.rcParams['figure.figsize'] = 16,9"
   ]
  },
  {
   "cell_type": "markdown",
   "metadata": {},
   "source": [
    "### Gráficos básicos"
   ]
  },
  {
   "cell_type": "code",
   "execution_count": null,
   "metadata": {
    "collapsed": false
   },
   "outputs": [],
   "source": [
    "N = 50\n",
    "x = np.random.rand(N)\n",
    "y = np.random.rand(N)\n",
    "colors = np.random.rand(N)\n",
    "max_radius = 30\n",
    "areas = np.pi * (max_radius * np.random.rand(N))**2 \n",
    "\n",
    "plt.scatter(x, y, s=areas, c=colors, alpha=0.5)"
   ]
  },
  {
   "cell_type": "code",
   "execution_count": null,
   "metadata": {
    "collapsed": false
   },
   "outputs": [],
   "source": [
    "x = np.random.rand(10)\n",
    "y = np.random.rand(10)\n",
    "colors = np.random.rand(10)\n",
    "\n",
    "plt.subplot(323)\n",
    "plt.scatter(x, y, s=80, c=colors, marker='D') # Diamante\n",
    "\n",
    "plt.subplot(324)\n",
    "plt.scatter(x, y, s=80, c=colors, marker='p') # Pentágono\n",
    "\n",
    "plt.subplot(331)\n",
    "plt.scatter(x, y, s=80, c=colors, marker='+') # Cruz\n",
    "\n",
    "plt.subplot(332)\n",
    "plt.scatter(x, y, s=80, c=colors, marker='h') # Hexágono\n",
    "\n",
    "plt.subplot(333)\n",
    "plt.scatter(x, y, s=80, c=colors, marker='s') # Cuadrado\n",
    "\n",
    "plt.subplot(313)\n",
    "plt.scatter(x, y, s=80, c=colors, marker='*') # Estrella\n"
   ]
  },
  {
   "cell_type": "code",
   "execution_count": null,
   "metadata": {
    "collapsed": false
   },
   "outputs": [],
   "source": [
    "x = np.random.rand(10)\n",
    "y = np.random.rand(10)\n",
    "colors = np.random.rand(10)\n",
    "\n",
    "plt.scatter(x, y, s=80, c=colors, marker=\">\") # Triángulo que apunta a la derecha\n",
    "\n",
    "x = np.random.rand(10)\n",
    "y = np.random.rand(10)\n",
    "colors = np.random.rand(10)\n",
    "\n",
    "plt.scatter(x, y, s=80, c=colors, marker='<') # Triángulo que apunta a la derecha\n",
    "\n",
    "x = np.random.rand(10)\n",
    "y = np.random.rand(10)\n",
    "colors = np.random.rand(10)\n",
    "\n",
    "plt.scatter(x, y, s=80, c=colors, marker='*')\n",
    "\n",
    "x = np.random.rand(10)\n",
    "y = np.random.rand(10)\n",
    "colors = np.random.rand(10)\n",
    "\n",
    "plt.scatter(x, y, s=80, c=colors, marker='+')\n",
    "\n",
    "x = np.random.rand(10)\n",
    "y = np.random.rand(10)\n",
    "colors = np.random.rand(10)\n",
    "\n",
    "plt.scatter(x, y, s=80, c=colors, marker='x')"
   ]
  },
  {
   "cell_type": "markdown",
   "metadata": {},
   "source": [
    "### Gráficos de funciones"
   ]
  },
  {
   "cell_type": "code",
   "execution_count": null,
   "metadata": {
    "collapsed": false
   },
   "outputs": [],
   "source": [
    "x = np.random.rand(10)\n",
    "y = np.random.rand(10)\n",
    "plt.plot(x,y)"
   ]
  },
  {
   "cell_type": "code",
   "execution_count": null,
   "metadata": {
    "collapsed": true
   },
   "outputs": [],
   "source": [
    "def x_square(x):\n",
    "    return x**2"
   ]
  },
  {
   "cell_type": "code",
   "execution_count": null,
   "metadata": {
    "collapsed": false
   },
   "outputs": [],
   "source": [
    "x = np.linspace(-100,100,10000)\n",
    "y = x_square(x)\n",
    "plt.plot(x,y)"
   ]
  },
  {
   "cell_type": "markdown",
   "metadata": {
    "collapsed": true
   },
   "source": [
    "### Carga de datos"
   ]
  },
  {
   "cell_type": "code",
   "execution_count": null,
   "metadata": {
    "collapsed": false
   },
   "outputs": [],
   "source": [
    "datos = pd.DataFrame.from_csv('dataset_tutorial.csv') "
   ]
  },
  {
   "cell_type": "code",
   "execution_count": null,
   "metadata": {
    "collapsed": false
   },
   "outputs": [],
   "source": [
    "datos.columns.values"
   ]
  },
  {
   "cell_type": "code",
   "execution_count": null,
   "metadata": {
    "collapsed": false
   },
   "outputs": [],
   "source": [
    "datos['Notas']"
   ]
  },
  {
   "cell_type": "code",
   "execution_count": null,
   "metadata": {
    "collapsed": false
   },
   "outputs": [],
   "source": [
    "notas = np.array(datos['Notas'])"
   ]
  },
  {
   "cell_type": "code",
   "execution_count": null,
   "metadata": {
    "collapsed": true
   },
   "outputs": [],
   "source": [
    "# Más información sobre DataFrames http://pandas.pydata.org/pandas-docs/stable/dsintro.html"
   ]
  },
  {
   "cell_type": "markdown",
   "metadata": {},
   "source": [
    "### Histogramas y distribuciones"
   ]
  },
  {
   "cell_type": "code",
   "execution_count": null,
   "metadata": {
    "collapsed": false
   },
   "outputs": [],
   "source": [
    "plt.hist(notas)"
   ]
  },
  {
   "cell_type": "code",
   "execution_count": null,
   "metadata": {
    "collapsed": false
   },
   "outputs": [],
   "source": []
  },
  {
   "cell_type": "code",
   "execution_count": null,
   "metadata": {
    "collapsed": false
   },
   "outputs": [],
   "source": [
    "size = len(notas)\n",
    "mean = notas.mean()\n",
    "var = notas.var()"
   ]
  },
  {
   "cell_type": "code",
   "execution_count": null,
   "metadata": {
    "collapsed": false
   },
   "outputs": [],
   "source": [
    "x = np.linspace(2,7,size)\n",
    "norm = scipy.stats.norm.pdf(x,mean,var)\n",
    "plt.hist(np.array(datos['Notas']), bins = 10, normed = 0)\n",
    "plt.plot(x,norm, lw = 2)\n"
   ]
  },
  {
   "cell_type": "code",
   "execution_count": null,
   "metadata": {
    "collapsed": false
   },
   "outputs": [],
   "source": [
    "x = np.linspace(2,7,size)\n",
    "norm = scipy.stats.norm.pdf(x,mean,0.59)\n",
    "plt.hist(np.array(datos['Notas']), bins = 10, normed = 1)\n",
    "plt.plot(x,norm, lw = 2)\n"
   ]
  },
  {
   "cell_type": "code",
   "execution_count": null,
   "metadata": {
    "collapsed": true
   },
   "outputs": [],
   "source": []
  },
  {
   "cell_type": "code",
   "execution_count": null,
   "metadata": {
    "collapsed": true
   },
   "outputs": [],
   "source": [
    "loc, scale = 10, 5.8\n",
    "theta, k = 6, 2\n",
    "c = 2"
   ]
  },
  {
   "cell_type": "code",
   "execution_count": null,
   "metadata": {
    "collapsed": true
   },
   "outputs": [],
   "source": [
    "laplace_values = np.random.laplace(loc, scale, 10000)\n",
    "x = np.linspace(0.1,60,10000)\n",
    "\n",
    "lap = scipy.stats.laplace.pdf(x,loc,scale)\n",
    "lapc = c*scipy.stats.laplace.pdf(x,loc,scale)\n",
    "gam = scipy.stats.gamma.pdf(x,2,k,theta)"
   ]
  },
  {
   "cell_type": "code",
   "execution_count": null,
   "metadata": {
    "collapsed": true
   },
   "outputs": [],
   "source": [
    "gamma_generada = []\n",
    "for i in laplace_values:\n",
    "    uniform_value = np.random.uniform(0,c*(scipy.stats.laplace.pdf(i,loc,scale)))\n",
    "    if(uniform_value <= scipy.stats.gamma.pdf(i,2,k,theta)):\n",
    "        gamma_generada.append(i)"
   ]
  },
  {
   "cell_type": "code",
   "execution_count": null,
   "metadata": {
    "collapsed": false
   },
   "outputs": [],
   "source": [
    "plt.hist(gamma_generada, bins = 60, normed = 1, color = 'purple', label = 'Generated Gamma')\n",
    "plt.legend()"
   ]
  },
  {
   "cell_type": "code",
   "execution_count": null,
   "metadata": {
    "collapsed": false
   },
   "outputs": [],
   "source": [
    "plt.hist(gamma_generada, bins = 60, normed = 1, color = 'purple', label = 'Generated Gamma')\n",
    "plt.plot(x,lap, color = 'red', label = 'Laplace')\n",
    "plt.plot(x,gam, color = 'blue', label = 'Gamma')\n",
    "plt.plot(x,lapc, color = 'green', label = 'C times Laplace')\n",
    "plt.xlabel('Valor x')\n",
    "plt.ylabel('Probabilidad de x')\n",
    "plt.xlim((0,60))\n",
    "plt.title('Grafico 1')\n",
    "plt.legend()"
   ]
  },
  {
   "cell_type": "code",
   "execution_count": null,
   "metadata": {
    "collapsed": true
   },
   "outputs": [],
   "source": []
  },
  {
   "cell_type": "code",
   "execution_count": null,
   "metadata": {
    "collapsed": true
   },
   "outputs": [],
   "source": []
  },
  {
   "cell_type": "code",
   "execution_count": null,
   "metadata": {
    "collapsed": true
   },
   "outputs": [],
   "source": []
  },
  {
   "cell_type": "code",
   "execution_count": null,
   "metadata": {
    "collapsed": true
   },
   "outputs": [],
   "source": []
  }
 ],
 "metadata": {
  "kernelspec": {
   "display_name": "Python 3",
   "language": "python",
   "name": "python3"
  },
  "language_info": {
   "codemirror_mode": {
    "name": "ipython",
    "version": 3
   },
   "file_extension": ".py",
   "mimetype": "text/x-python",
   "name": "python",
   "nbconvert_exporter": "python",
   "pygments_lexer": "ipython3",
   "version": "3.4.4"
  }
 },
 "nbformat": 4,
 "nbformat_minor": 0
}
